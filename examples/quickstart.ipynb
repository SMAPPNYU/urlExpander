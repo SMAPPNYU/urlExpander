{
 "cells": [
  {
   "cell_type": "markdown",
   "metadata": {},
   "source": [
    "# urlExpander Quickstart\n",
    "[NBViewer](http://nbviewer.jupyter.org/https://github.com/SMAPPNYU/urlExpander/blob/master/examples/quickstart.ipynb) | [Github](https://github.com/SMAPPNYU/urlExpander/blob/master/examples/quickstart.ipynb)| By [Leon Yin](leonyin.org) for [SmaPP NYU](https://wp.nyu.edu/smapp/)\n",
    "\n",
    "\n",
    "The core functions for this package as exactly as the name suggests -- to expand shortened urls!<br>\n",
    "You can download the software using pip:"
   ]
  },
  {
   "cell_type": "code",
   "execution_count": 1,
   "metadata": {},
   "outputs": [],
   "source": [
    "!pip install urlexpander runtimestamp --upgrade"
   ]
  },
  {
   "cell_type": "code",
   "execution_count": 5,
   "metadata": {},
   "outputs": [
    {
     "name": "stdout",
     "output_type": "stream",
     "text": [
      "Updated 2018-07-12 16:50:09.008560\n",
      "By Leon\n",
      "Using Python 3.6.5\n",
      "On Linux-3.10.0-514.10.2.el7.x86_64-x86_64-with-centos-7.3.1611-Core\n"
     ]
    }
   ],
   "source": [
    "import urlexpander as ux\n",
    "from runtimestamp.runtimestamp import runtimestamp\n",
    "runtimestamp('Leon')"
   ]
  },
  {
   "cell_type": "markdown",
   "metadata": {},
   "source": [
    "Here is a toy example of some URLs taken from Congressional Twitter accounts:"
   ]
  },
  {
   "cell_type": "code",
   "execution_count": 58,
   "metadata": {},
   "outputs": [],
   "source": [
    "urls = [\n",
    "    'https://trib.al/xXI5ruM',\n",
    "    'http://bit.ly/1Sv81cj',\n",
    "    'https://www.youtube.com/watch?v=8NwKcfXvGl4',\n",
    "    'https://t.co/zNU1eHhQRn',\n",
    "]"
   ]
  },
  {
   "cell_type": "markdown",
   "metadata": {},
   "source": [
    "We can use the `expand` function (see the code) to unshorten any link:"
   ]
  },
  {
   "cell_type": "code",
   "execution_count": 59,
   "metadata": {},
   "outputs": [
    {
     "data": {
      "text/plain": [
       "{'original_url': 'https://trib.al/xXI5ruM',\n",
       " 'resolved_domain': 'breitbart.com',\n",
       " 'resolved_url': 'https://www.breitbart.com/video/2017/12/31/lindsey-graham-trump-just-cant-tweet-iran/'}"
      ]
     },
     "execution_count": 59,
     "metadata": {},
     "output_type": "execute_result"
    }
   ],
   "source": [
    "ux.expand(urls[0])"
   ]
  },
  {
   "cell_type": "markdown",
   "metadata": {},
   "source": [
    "To save compute time, we can skip links that don't need to be expanded.<br>\n",
    "The `is_short` function takes any url and checks if the domain is from a known list of link shorteners"
   ]
  },
  {
   "cell_type": "code",
   "execution_count": 60,
   "metadata": {},
   "outputs": [
    {
     "name": "stdout",
     "output_type": "stream",
     "text": [
      "http://bit.ly/1Sv81cj returns:\n"
     ]
    },
    {
     "data": {
      "text/plain": [
       "True"
      ]
     },
     "execution_count": 60,
     "metadata": {},
     "output_type": "execute_result"
    }
   ],
   "source": [
    "print(f\"{urls[1]} returns:\")\n",
    "ux.is_short(urls[1])"
   ]
  },
  {
   "cell_type": "markdown",
   "metadata": {},
   "source": [
    "bit.ly is probably the best known link shortener, Youtube.com however is not a link shortener!"
   ]
  },
  {
   "cell_type": "code",
   "execution_count": 61,
   "metadata": {},
   "outputs": [
    {
     "name": "stdout",
     "output_type": "stream",
     "text": [
      "https://www.youtube.com/watch?v=8NwKcfXvGl4 returns:\n"
     ]
    },
    {
     "data": {
      "text/plain": [
       "False"
      ]
     },
     "execution_count": 61,
     "metadata": {},
     "output_type": "execute_result"
    }
   ],
   "source": [
    "print(f\"{urls[2]} returns:\")\n",
    "ux.is_short(urls[2])"
   ]
  },
  {
   "cell_type": "markdown",
   "metadata": {},
   "source": [
    "urlExpander takes advantage of a list of known domains that offer link shortening services."
   ]
  },
  {
   "cell_type": "code",
   "execution_count": 62,
   "metadata": {},
   "outputs": [
    {
     "data": {
      "text/plain": [
       "['sh.st',\n",
       " 'adf.ly',\n",
       " 'lnx.lu',\n",
       " 'adfoc.us',\n",
       " 'dlvr.it',\n",
       " 'bit.ly',\n",
       " 'buff.ly',\n",
       " 'ow.ly',\n",
       " 'goo.gl',\n",
       " 'shar.es',\n",
       " 'ift.tt',\n",
       " 'fb.me',\n",
       " 'washex.am',\n",
       " 'smq.tc',\n",
       " 'trib.al',\n",
       " 'is.gd',\n",
       " 'paper.li',\n",
       " 'waa.ai',\n",
       " 'tinyurl.com',\n",
       " 'ht.ly',\n",
       " '1.usa.gov',\n",
       " 'deck.ly',\n",
       " 'bit.do',\n",
       " 'tiny.cc',\n",
       " 'lc.chat']"
      ]
     },
     "execution_count": 62,
     "metadata": {},
     "output_type": "execute_result"
    }
   ],
   "source": [
    "known_shorteners = ux.constants.all_short_domains.copy()\n",
    "known_shorteners[:25]"
   ]
  },
  {
   "cell_type": "markdown",
   "metadata": {},
   "source": [
    "You can make modifications or use your own `list_of_domains` as an argument for the`is_short` function or `is_short_domain` (which is faster and operates on the domain-level)."
   ]
  },
  {
   "cell_type": "code",
   "execution_count": 63,
   "metadata": {},
   "outputs": [],
   "source": [
    "known_shorteners += ['youtube.com']"
   ]
  },
  {
   "cell_type": "code",
   "execution_count": 64,
   "metadata": {},
   "outputs": [
    {
     "name": "stdout",
     "output_type": "stream",
     "text": [
      "Now https://www.youtube.com/watch?v=8NwKcfXvGl4 returns:\n"
     ]
    },
    {
     "data": {
      "text/plain": [
       "True"
      ]
     },
     "execution_count": 64,
     "metadata": {},
     "output_type": "execute_result"
    }
   ],
   "source": [
    "print(f\"Now {urls[2]} returns:\")\n",
    "ux.is_short(urls[2], list_of_domains=known_shorteners)"
   ]
  },
  {
   "cell_type": "markdown",
   "metadata": {},
   "source": [
    "Now we can shorten our workload:"
   ]
  },
  {
   "cell_type": "code",
   "execution_count": 65,
   "metadata": {},
   "outputs": [
    {
     "data": {
      "text/plain": [
       "['https://trib.al/xXI5ruM', 'http://bit.ly/1Sv81cj']"
      ]
     },
     "execution_count": 65,
     "metadata": {},
     "output_type": "execute_result"
    }
   ],
   "source": [
    "# filter only domains that need to be shortenened\n",
    "urls_to_shorten = [link for link in urls if ux.is_short(link)]\n",
    "urls_to_shorten"
   ]
  },
  {
   "cell_type": "markdown",
   "metadata": {},
   "source": [
    "urlExpander's `multithread_expand` does heavy lifting to quickly and thoroughly expand a list of links:"
   ]
  },
  {
   "cell_type": "code",
   "execution_count": 66,
   "metadata": {},
   "outputs": [
    {
     "name": "stderr",
     "output_type": "stream",
     "text": [
      "1it [00:01,  1.00s/it]\n"
     ]
    }
   ],
   "source": [
    "df_resolved_links = ux.multithread_expand(urls_to_shorten,  \n",
    "                                          n_workers=2,\n",
    "                                          return_errors=False)"
   ]
  },
  {
   "cell_type": "code",
   "execution_count": 67,
   "metadata": {},
   "outputs": [
    {
     "data": {
      "text/html": [
       "<div>\n",
       "<style scoped>\n",
       "    .dataframe tbody tr th:only-of-type {\n",
       "        vertical-align: middle;\n",
       "    }\n",
       "\n",
       "    .dataframe tbody tr th {\n",
       "        vertical-align: top;\n",
       "    }\n",
       "\n",
       "    .dataframe thead th {\n",
       "        text-align: right;\n",
       "    }\n",
       "</style>\n",
       "<table border=\"1\" class=\"dataframe\">\n",
       "  <thead>\n",
       "    <tr style=\"text-align: right;\">\n",
       "      <th></th>\n",
       "      <th>original_url</th>\n",
       "      <th>resolved_domain</th>\n",
       "      <th>resolved_url</th>\n",
       "    </tr>\n",
       "  </thead>\n",
       "  <tbody>\n",
       "    <tr>\n",
       "      <th>0</th>\n",
       "      <td>https://trib.al/xXI5ruM</td>\n",
       "      <td>breitbart.com</td>\n",
       "      <td>https://www.breitbart.com/video/2017/12/31/lin...</td>\n",
       "    </tr>\n",
       "    <tr>\n",
       "      <th>1</th>\n",
       "      <td>http://bit.ly/1Sv81cj</td>\n",
       "      <td>billshusterforcongress.com</td>\n",
       "      <td>http://www.billshusterforcongress.com/congress...</td>\n",
       "    </tr>\n",
       "  </tbody>\n",
       "</table>\n",
       "</div>"
      ],
      "text/plain": [
       "              original_url             resolved_domain  \\\n",
       "0  https://trib.al/xXI5ruM               breitbart.com   \n",
       "1    http://bit.ly/1Sv81cj  billshusterforcongress.com   \n",
       "\n",
       "                                        resolved_url  \n",
       "0  https://www.breitbart.com/video/2017/12/31/lin...  \n",
       "1  http://www.billshusterforcongress.com/congress...  "
      ]
     },
     "execution_count": 67,
     "metadata": {},
     "output_type": "execute_result"
    }
   ],
   "source": [
    "df_resolved_links.head()"
   ]
  },
  {
   "cell_type": "markdown",
   "metadata": {},
   "source": [
    "But that is a toy example, let's see how this fairs with a larger dataset"
   ]
  },
  {
   "cell_type": "code",
   "execution_count": 13,
   "metadata": {},
   "outputs": [],
   "source": [
    "import pandas as pd"
   ]
  },
  {
   "cell_type": "code",
   "execution_count": null,
   "metadata": {},
   "outputs": [],
   "source": [
    "ux."
   ]
  },
  {
   "cell_type": "code",
   "execution_count": 45,
   "metadata": {},
   "outputs": [],
   "source": [
    "df_congress = pd.read_csv('https://raw.githubusercontent.com/SMAPPNYU/urlExpander/master/datasets/congress_sample_links.csv?flush=true',\n",
    "                          dtype={'tweet.id':str,'user.id':str})"
   ]
  },
  {
   "cell_type": "code",
   "execution_count": 46,
   "metadata": {},
   "outputs": [
    {
     "data": {
      "text/plain": [
       "50000"
      ]
     },
     "execution_count": 46,
     "metadata": {},
     "output_type": "execute_result"
    }
   ],
   "source": [
    "len(df_congress)"
   ]
  },
  {
   "cell_type": "code",
   "execution_count": 47,
   "metadata": {},
   "outputs": [
    {
     "data": {
      "text/plain": [
       "Index(['link.domain', 'link.url_long', 'link.url_short', 'tweet.created_at',\n",
       "       'tweet.id', 'tweet.text', 'user.id'],\n",
       "      dtype='object')"
      ]
     },
     "execution_count": 47,
     "metadata": {},
     "output_type": "execute_result"
    }
   ],
   "source": [
    "df_congress.columns"
   ]
  },
  {
   "cell_type": "code",
   "execution_count": 48,
   "metadata": {},
   "outputs": [
    {
     "data": {
      "text/html": [
       "<div>\n",
       "<style scoped>\n",
       "    .dataframe tbody tr th:only-of-type {\n",
       "        vertical-align: middle;\n",
       "    }\n",
       "\n",
       "    .dataframe tbody tr th {\n",
       "        vertical-align: top;\n",
       "    }\n",
       "\n",
       "    .dataframe thead th {\n",
       "        text-align: right;\n",
       "    }\n",
       "</style>\n",
       "<table border=\"1\" class=\"dataframe\">\n",
       "  <thead>\n",
       "    <tr style=\"text-align: right;\">\n",
       "      <th></th>\n",
       "      <th>link.domain</th>\n",
       "      <th>link.url_long</th>\n",
       "      <th>link.url_short</th>\n",
       "      <th>tweet.created_at</th>\n",
       "      <th>tweet.id</th>\n",
       "      <th>tweet.text</th>\n",
       "      <th>user.id</th>\n",
       "    </tr>\n",
       "  </thead>\n",
       "  <tbody>\n",
       "    <tr>\n",
       "      <th>0</th>\n",
       "      <td>m.huffpost.com</td>\n",
       "      <td>http://m.huffpost.com/us/entry/55fc2c6ce4b0fde...</td>\n",
       "      <td>http://t.co/pSujNSfXzT</td>\n",
       "      <td>Tue Sep 22 13:28:41 +0000 2015</td>\n",
       "      <td>646315181157535744</td>\n",
       "      <td>Such a wonderful thing to do! #Detroit attorne...</td>\n",
       "      <td>2863006655</td>\n",
       "    </tr>\n",
       "    <tr>\n",
       "      <th>1</th>\n",
       "      <td>goo.gl</td>\n",
       "      <td>http://goo.gl/O13Fjd</td>\n",
       "      <td>https://t.co/NMkW0wKcAa</td>\n",
       "      <td>Mon Oct 19 21:23:54 +0000 2015</td>\n",
       "      <td>656219242828697600</td>\n",
       "      <td>Burdensome fines. Failing co-ops. Skyrocketing...</td>\n",
       "      <td>28267055</td>\n",
       "    </tr>\n",
       "    <tr>\n",
       "      <th>2</th>\n",
       "      <td>bit.ly</td>\n",
       "      <td>http://bit.ly/2nU8ifO</td>\n",
       "      <td>https://t.co/fG7dUYX6d6</td>\n",
       "      <td>Thu Feb 15 04:13:05 +0000 2018</td>\n",
       "      <td>963989517320572929</td>\n",
       "      <td>RT @NoticentroWAPA: Puerto de Ponce recibe el ...</td>\n",
       "      <td>400246874</td>\n",
       "    </tr>\n",
       "    <tr>\n",
       "      <th>3</th>\n",
       "      <td>bit.ly</td>\n",
       "      <td>http://bit.ly/11h3mA7</td>\n",
       "      <td>http://t.co/tcoHulG4iJ</td>\n",
       "      <td>Thu Jul 25 20:27:59 +0000 2013</td>\n",
       "      <td>360496673778188289</td>\n",
       "      <td>Not my 1st errant tweet, won't be my last. MT ...</td>\n",
       "      <td>16056306</td>\n",
       "    </tr>\n",
       "    <tr>\n",
       "      <th>4</th>\n",
       "      <td>is.gd</td>\n",
       "      <td>http://is.gd/T3FXGl</td>\n",
       "      <td>http://t.co/veFfyXnZ</td>\n",
       "      <td>Wed Feb 01 04:07:04 +0000 2012</td>\n",
       "      <td>164560372081229824</td>\n",
       "      <td>“@michellemalkin: My latest column: First, the...</td>\n",
       "      <td>54412900</td>\n",
       "    </tr>\n",
       "  </tbody>\n",
       "</table>\n",
       "</div>"
      ],
      "text/plain": [
       "      link.domain                                      link.url_long  \\\n",
       "0  m.huffpost.com  http://m.huffpost.com/us/entry/55fc2c6ce4b0fde...   \n",
       "1          goo.gl                               http://goo.gl/O13Fjd   \n",
       "2          bit.ly                              http://bit.ly/2nU8ifO   \n",
       "3          bit.ly                              http://bit.ly/11h3mA7   \n",
       "4           is.gd                                http://is.gd/T3FXGl   \n",
       "\n",
       "            link.url_short                tweet.created_at  \\\n",
       "0   http://t.co/pSujNSfXzT  Tue Sep 22 13:28:41 +0000 2015   \n",
       "1  https://t.co/NMkW0wKcAa  Mon Oct 19 21:23:54 +0000 2015   \n",
       "2  https://t.co/fG7dUYX6d6  Thu Feb 15 04:13:05 +0000 2018   \n",
       "3   http://t.co/tcoHulG4iJ  Thu Jul 25 20:27:59 +0000 2013   \n",
       "4     http://t.co/veFfyXnZ  Wed Feb 01 04:07:04 +0000 2012   \n",
       "\n",
       "             tweet.id                                         tweet.text  \\\n",
       "0  646315181157535744  Such a wonderful thing to do! #Detroit attorne...   \n",
       "1  656219242828697600  Burdensome fines. Failing co-ops. Skyrocketing...   \n",
       "2  963989517320572929  RT @NoticentroWAPA: Puerto de Ponce recibe el ...   \n",
       "3  360496673778188289  Not my 1st errant tweet, won't be my last. MT ...   \n",
       "4  164560372081229824  “@michellemalkin: My latest column: First, the...   \n",
       "\n",
       "      user.id  \n",
       "0  2863006655  \n",
       "1    28267055  \n",
       "2   400246874  \n",
       "3    16056306  \n",
       "4    54412900  "
      ]
     },
     "execution_count": 48,
     "metadata": {},
     "output_type": "execute_result"
    }
   ],
   "source": [
    "df_congress.head()"
   ]
  },
  {
   "cell_type": "code",
   "execution_count": 39,
   "metadata": {},
   "outputs": [
    {
     "data": {
      "text/plain": [
       "15035"
      ]
     },
     "execution_count": 39,
     "metadata": {},
     "output_type": "execute_result"
    }
   ],
   "source": [
    "short_urls = df_congress[df_congress['link.url_long'].apply(ux.is_short)]['link.url_long'].unique()\n",
    "len(short_urls)"
   ]
  },
  {
   "cell_type": "code",
   "execution_count": 42,
   "metadata": {},
   "outputs": [
    {
     "name": "stderr",
     "output_type": "stream",
     "text": [
      "12it [04:28, 22.39s/it]\n"
     ]
    }
   ],
   "source": [
    "df_resolved_links = ux.multithread_expand(short_urls, \n",
    "                                          chunksize=1280, \n",
    "                                          n_workers=64,\n",
    "                                          cache_file='tmp.json',\n",
    "                                          return_errors=False)"
   ]
  },
  {
   "cell_type": "markdown",
   "metadata": {},
   "source": [
    "We were able to expand 15K links in less than 4.5 minutes!"
   ]
  },
  {
   "cell_type": "code",
   "execution_count": 25,
   "metadata": {},
   "outputs": [
    {
     "data": {
      "text/html": [
       "<div>\n",
       "<style scoped>\n",
       "    .dataframe tbody tr th:only-of-type {\n",
       "        vertical-align: middle;\n",
       "    }\n",
       "\n",
       "    .dataframe tbody tr th {\n",
       "        vertical-align: top;\n",
       "    }\n",
       "\n",
       "    .dataframe thead th {\n",
       "        text-align: right;\n",
       "    }\n",
       "</style>\n",
       "<table border=\"1\" class=\"dataframe\">\n",
       "  <thead>\n",
       "    <tr style=\"text-align: right;\">\n",
       "      <th></th>\n",
       "      <th>original_url</th>\n",
       "      <th>resolved_domain</th>\n",
       "      <th>resolved_url</th>\n",
       "    </tr>\n",
       "  </thead>\n",
       "  <tbody>\n",
       "    <tr>\n",
       "      <th>0</th>\n",
       "      <td>https://trib.al/xXI5ruM</td>\n",
       "      <td>breitbart.com</td>\n",
       "      <td>https://www.breitbart.com/video/2017/12/31/lin...</td>\n",
       "    </tr>\n",
       "    <tr>\n",
       "      <th>1</th>\n",
       "      <td>http://bit.ly/1Sv81cj</td>\n",
       "      <td>billshusterforcongress.com</td>\n",
       "      <td>http://www.billshusterforcongress.com/congress...</td>\n",
       "    </tr>\n",
       "    <tr>\n",
       "      <th>2</th>\n",
       "      <td>http://1.usa.gov/1JW0z4u</td>\n",
       "      <td>manchin.senate.gov</td>\n",
       "      <td>http://www.manchin.senate.gov/public/index.cfm...</td>\n",
       "    </tr>\n",
       "    <tr>\n",
       "      <th>3</th>\n",
       "      <td>http://ow.ly/fVR0302XZqu</td>\n",
       "      <td>mass.gov</td>\n",
       "      <td>https://www.mass.gov/news/governor-baker-signs...</td>\n",
       "    </tr>\n",
       "    <tr>\n",
       "      <th>4</th>\n",
       "      <td>http://ow.ly/a6Blc</td>\n",
       "      <td>forbes.com</td>\n",
       "      <td>https://www.forbes.com/sites/work-in-progress/...</td>\n",
       "    </tr>\n",
       "  </tbody>\n",
       "</table>\n",
       "</div>"
      ],
      "text/plain": [
       "               original_url             resolved_domain  \\\n",
       "0   https://trib.al/xXI5ruM               breitbart.com   \n",
       "1     http://bit.ly/1Sv81cj  billshusterforcongress.com   \n",
       "2  http://1.usa.gov/1JW0z4u          manchin.senate.gov   \n",
       "3  http://ow.ly/fVR0302XZqu                    mass.gov   \n",
       "4        http://ow.ly/a6Blc                  forbes.com   \n",
       "\n",
       "                                        resolved_url  \n",
       "0  https://www.breitbart.com/video/2017/12/31/lin...  \n",
       "1  http://www.billshusterforcongress.com/congress...  \n",
       "2  http://www.manchin.senate.gov/public/index.cfm...  \n",
       "3  https://www.mass.gov/news/governor-baker-signs...  \n",
       "4  https://www.forbes.com/sites/work-in-progress/...  "
      ]
     },
     "execution_count": 25,
     "metadata": {},
     "output_type": "execute_result"
    }
   ],
   "source": [
    "df_resolved_links.head()"
   ]
  },
  {
   "cell_type": "markdown",
   "metadata": {},
   "source": [
    "This process has hsitorically been a huge bottleneck for using links as data. We hope that this software helps you overcome similar obsticles!"
   ]
  },
  {
   "cell_type": "markdown",
   "metadata": {},
   "source": []
  },
  {
   "cell_type": "code",
   "execution_count": 11,
   "metadata": {},
   "outputs": [
    {
     "data": {
      "text/plain": [
       "'Congressman Shuster Endorses Donald Trump » Congressman Bill Shuster'"
      ]
     },
     "execution_count": 11,
     "metadata": {},
     "output_type": "execute_result"
    }
   ],
   "source": [
    "ux.html_parser.get_webpage_title(urls[0])"
   ]
  },
  {
   "cell_type": "code",
   "execution_count": 12,
   "metadata": {},
   "outputs": [
    {
     "data": {
      "text/plain": [
       "'HOLLIDAYSBURG, PA –\\xa0Congressman Bill Shuster (R-PA), Chairman of the House Transportation and Infrastructure Committee and delegate for the 9th\\xa0Congressional District has announced his endorsement of Donald Trump for President: “The people of the 9th Congressional District, the Commonwealth of Pennsylvania, and states across the nation have made their voices heard, and I join them in ...Read more here.'"
      ]
     },
     "execution_count": 12,
     "metadata": {},
     "output_type": "execute_result"
    }
   ],
   "source": [
    "ux.html_parser.get_webpage_description(urls[0])"
   ]
  },
  {
   "cell_type": "code",
   "execution_count": null,
   "metadata": {},
   "outputs": [],
   "source": []
  }
 ],
 "metadata": {
  "kernelspec": {
   "display_name": "Python 3",
   "language": "python",
   "name": "python3"
  },
  "language_info": {
   "codemirror_mode": {
    "name": "ipython",
    "version": 3
   },
   "file_extension": ".py",
   "mimetype": "text/x-python",
   "name": "python",
   "nbconvert_exporter": "python",
   "pygments_lexer": "ipython3",
   "version": "3.6.5"
  }
 },
 "nbformat": 4,
 "nbformat_minor": 2
}
