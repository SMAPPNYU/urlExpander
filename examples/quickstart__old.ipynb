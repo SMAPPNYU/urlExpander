{
 "cells": [
  {
   "cell_type": "markdown",
   "metadata": {},
   "source": [
    "# urlExpander Quickstart\n",
    "View this notebook on [NBViewer](http://nbviewer.jupyter.org/github/SMAPPNYU/urlExpander/blob/master/examples/quickstart.ipynb?flush_cache=true) or [Github](https://github.com/SMAPPNYU/urlExpander/blob/master/examples/quickstart.ipynb)| Run it interactively on\n",
    "[Binder](https://mybinder.org/v2/gh/SMAPPNYU/urlExpander/master?filepath=examples%2Fquickstart.ipynb) <br>\n",
    "By [Leon Yin](leonyin.org) for [SMaPP NYU](https://wp.nyu.edu/smapp/)\n",
    "\n",
    "\n",
    "[urlExpander](https://github.com/SMAPPNYU/urlExpander) is a Python package for quickly and thoroughly expanding URLs.\n",
    "\n",
    "You can download the software using pip:"
   ]
  },
  {
   "cell_type": "code",
   "execution_count": 2,
   "metadata": {},
   "outputs": [],
   "source": [
    "!pip install urlexpander runtimestamp -U"
   ]
  },
  {
   "cell_type": "code",
   "execution_count": 3,
   "metadata": {},
   "outputs": [
    {
     "name": "stdout",
     "output_type": "stream",
     "text": [
      "Updated 2018-07-19 09:34:55.593999\n",
      "By QuickStart User\n",
      "Using Python 3.6.5\n",
      "On Linux-3.10.0-514.10.2.el7.x86_64-x86_64-with-centos-7.3.1611-Core\n",
      "This notebook is using urlExpander v0.0.28\n"
     ]
    }
   ],
   "source": [
    "import urlexpander as ux\n",
    "from runtimestamp.runtimestamp import runtimestamp\n",
    "runtimestamp('QuickStart User')\n",
    "print(f\"This notebook is using urlExpander v{ux.__version__}\")"
   ]
  },
  {
   "cell_type": "markdown",
   "metadata": {},
   "source": [
    "Here is a toy example of some URLs taken from Congressional Twitter accounts:"
   ]
  },
  {
   "cell_type": "code",
   "execution_count": 2,
   "metadata": {},
   "outputs": [],
   "source": [
    "urls = [\n",
    "    'https://trib.al/xXI5ruM',\n",
    "    'http://bit.ly/1Sv81cj',\n",
    "    'https://www.youtube.com/watch?v=8NwKcfXvGl4',\n",
    "    'https://t.co/zNU1eHhQRn',\n",
    "]"
   ]
  },
  {
   "cell_type": "markdown",
   "metadata": {},
   "source": [
    "We can use the `expand` function (see the code) to unshorten any link:"
   ]
  },
  {
   "cell_type": "code",
   "execution_count": 3,
   "metadata": {},
   "outputs": [
    {
     "data": {
      "text/plain": [
       "{'original_url': 'https://trib.al/xXI5ruM',\n",
       " 'resolved_domain': 'breitbart.com',\n",
       " 'resolved_url': 'https://www.breitbart.com/video/2017/12/31/lindsey-graham-trump-just-cant-tweet-iran/'}"
      ]
     },
     "execution_count": 3,
     "metadata": {},
     "output_type": "execute_result"
    }
   ],
   "source": [
    "ux.expand(urls[0])"
   ]
  },
  {
   "cell_type": "markdown",
   "metadata": {},
   "source": [
    "To save compute time, we can skip links that don't need to be expanded.<br>\n",
    "The `is_short` function takes any url and checks if the domain is from a known list of link shorteners"
   ]
  },
  {
   "cell_type": "code",
   "execution_count": 4,
   "metadata": {},
   "outputs": [
    {
     "name": "stdout",
     "output_type": "stream",
     "text": [
      "http://bit.ly/1Sv81cj returns:\n"
     ]
    },
    {
     "data": {
      "text/plain": [
       "True"
      ]
     },
     "execution_count": 4,
     "metadata": {},
     "output_type": "execute_result"
    }
   ],
   "source": [
    "print(f\"{urls[1]} returns:\")\n",
    "ux.is_short(urls[1])"
   ]
  },
  {
   "cell_type": "markdown",
   "metadata": {},
   "source": [
    "bit.ly is probably the best known link shortener, Youtube.com however is not a link shortener!"
   ]
  },
  {
   "cell_type": "code",
   "execution_count": 5,
   "metadata": {},
   "outputs": [
    {
     "name": "stdout",
     "output_type": "stream",
     "text": [
      "https://www.youtube.com/watch?v=8NwKcfXvGl4 returns:\n"
     ]
    },
    {
     "data": {
      "text/plain": [
       "False"
      ]
     },
     "execution_count": 5,
     "metadata": {},
     "output_type": "execute_result"
    }
   ],
   "source": [
    "print(f\"{urls[2]} returns:\")\n",
    "ux.is_short(urls[2])"
   ]
  },
  {
   "cell_type": "markdown",
   "metadata": {},
   "source": [
    "urlExpander takes advantage of a list of known domains that offer link shortening services."
   ]
  },
  {
   "cell_type": "code",
   "execution_count": 6,
   "metadata": {},
   "outputs": [
    {
     "data": {
      "text/plain": [
       "['sh.st',\n",
       " 'adf.ly',\n",
       " 'lnx.lu',\n",
       " 'adfoc.us',\n",
       " 'j.gs',\n",
       " 'q.gs',\n",
       " 'u.bb',\n",
       " 'ay.gy',\n",
       " 'atominik.com',\n",
       " 'tinyium.com',\n",
       " 'microify.com',\n",
       " 'linkbucks.com',\n",
       " 'www.linkbucks.com',\n",
       " 'jzrputtbut.net',\n",
       " 'any.gs',\n",
       " 'cash4links.co',\n",
       " 'cache4files.co',\n",
       " 'dyo.gs',\n",
       " 'filesonthe.net',\n",
       " 'goneviral.com',\n",
       " 'megaline.co',\n",
       " 'miniurls.co',\n",
       " 'qqc.co',\n",
       " 'seriousdeals.net',\n",
       " 'theseblogs.com']"
      ]
     },
     "execution_count": 6,
     "metadata": {},
     "output_type": "execute_result"
    }
   ],
   "source": [
    "known_shorteners = ux.constants.all_short_domains.copy()\n",
    "known_shorteners[:25]"
   ]
  },
  {
   "cell_type": "markdown",
   "metadata": {},
   "source": [
    "You can make modifications or use your own `list_of_domains` as an argument for the`is_short` function or `is_short_domain` (which is faster and operates on the domain-level)."
   ]
  },
  {
   "cell_type": "code",
   "execution_count": 7,
   "metadata": {},
   "outputs": [],
   "source": [
    "known_shorteners += ['youtube.com']"
   ]
  },
  {
   "cell_type": "code",
   "execution_count": 8,
   "metadata": {},
   "outputs": [
    {
     "name": "stdout",
     "output_type": "stream",
     "text": [
      "Now https://www.youtube.com/watch?v=8NwKcfXvGl4 returns:\n"
     ]
    },
    {
     "data": {
      "text/plain": [
       "True"
      ]
     },
     "execution_count": 8,
     "metadata": {},
     "output_type": "execute_result"
    }
   ],
   "source": [
    "print(f\"Now {urls[2]} returns:\")\n",
    "ux.is_short(urls[2], list_of_domains=known_shorteners)"
   ]
  },
  {
   "cell_type": "markdown",
   "metadata": {},
   "source": [
    "Now we can shorten our workload:"
   ]
  },
  {
   "cell_type": "code",
   "execution_count": 9,
   "metadata": {},
   "outputs": [
    {
     "data": {
      "text/plain": [
       "['https://trib.al/xXI5ruM', 'http://bit.ly/1Sv81cj']"
      ]
     },
     "execution_count": 9,
     "metadata": {},
     "output_type": "execute_result"
    }
   ],
   "source": [
    "# filter only domains that need to be shortenened\n",
    "urls_to_shorten = [link for link in urls if ux.is_short(link)]\n",
    "urls_to_shorten"
   ]
  },
  {
   "cell_type": "markdown",
   "metadata": {},
   "source": [
    "urlExpander's `multithread_expand()` does heavy lifting to quickly and thoroughly expand a list of links:"
   ]
  },
  {
   "cell_type": "code",
   "execution_count": 10,
   "metadata": {},
   "outputs": [
    {
     "name": "stderr",
     "output_type": "stream",
     "text": [
      "1it [00:01,  1.00s/it]\n"
     ]
    }
   ],
   "source": [
    "resolved_links = ux.multithread_expand(urls_to_shorten,  \n",
    "                                       n_workers=2,\n",
    "                                       return_errors=False)"
   ]
  },
  {
   "cell_type": "code",
   "execution_count": 11,
   "metadata": {},
   "outputs": [
    {
     "data": {
      "text/plain": [
       "[{'original_url': 'https://trib.al/xXI5ruM',\n",
       "  'resolved_domain': 'breitbart.com',\n",
       "  'resolved_url': 'https://www.breitbart.com/video/2017/12/31/lindsey-graham-trump-just-cant-tweet-iran/'},\n",
       " {'original_url': 'http://bit.ly/1Sv81cj',\n",
       "  'resolved_domain': 'billshusterforcongress.com',\n",
       "  'resolved_url': 'http://www.billshusterforcongress.com/congressman-shuster-endorses-donald-trump/'}]"
      ]
     },
     "execution_count": 11,
     "metadata": {},
     "output_type": "execute_result"
    }
   ],
   "source": [
    "resolved_links"
   ]
  },
  {
   "cell_type": "markdown",
   "metadata": {},
   "source": [
    "The output works really nicely with [Pandas](https://pandas.pydata.org/)."
   ]
  },
  {
   "cell_type": "code",
   "execution_count": 12,
   "metadata": {},
   "outputs": [
    {
     "data": {
      "text/html": [
       "<div>\n",
       "<style scoped>\n",
       "    .dataframe tbody tr th:only-of-type {\n",
       "        vertical-align: middle;\n",
       "    }\n",
       "\n",
       "    .dataframe tbody tr th {\n",
       "        vertical-align: top;\n",
       "    }\n",
       "\n",
       "    .dataframe thead th {\n",
       "        text-align: right;\n",
       "    }\n",
       "</style>\n",
       "<table border=\"1\" class=\"dataframe\">\n",
       "  <thead>\n",
       "    <tr style=\"text-align: right;\">\n",
       "      <th></th>\n",
       "      <th>original_url</th>\n",
       "      <th>resolved_domain</th>\n",
       "      <th>resolved_url</th>\n",
       "    </tr>\n",
       "  </thead>\n",
       "  <tbody>\n",
       "    <tr>\n",
       "      <th>0</th>\n",
       "      <td>https://trib.al/xXI5ruM</td>\n",
       "      <td>breitbart.com</td>\n",
       "      <td>https://www.breitbart.com/video/2017/12/31/lin...</td>\n",
       "    </tr>\n",
       "    <tr>\n",
       "      <th>1</th>\n",
       "      <td>http://bit.ly/1Sv81cj</td>\n",
       "      <td>billshusterforcongress.com</td>\n",
       "      <td>http://www.billshusterforcongress.com/congress...</td>\n",
       "    </tr>\n",
       "  </tbody>\n",
       "</table>\n",
       "</div>"
      ],
      "text/plain": [
       "              original_url             resolved_domain  \\\n",
       "0  https://trib.al/xXI5ruM               breitbart.com   \n",
       "1    http://bit.ly/1Sv81cj  billshusterforcongress.com   \n",
       "\n",
       "                                        resolved_url  \n",
       "0  https://www.breitbart.com/video/2017/12/31/lin...  \n",
       "1  http://www.billshusterforcongress.com/congress...  "
      ]
     },
     "execution_count": 12,
     "metadata": {},
     "output_type": "execute_result"
    }
   ],
   "source": [
    "import pandas as pd\n",
    "\n",
    "df_resolved_links = pd.DataFrame(resolved_links)\n",
    "df_resolved_links.tail(2)"
   ]
  },
  {
   "cell_type": "markdown",
   "metadata": {},
   "source": [
    "<hr>"
   ]
  },
  {
   "cell_type": "markdown",
   "metadata": {},
   "source": [
    "But that is a toy example, let's see how this fairs with a larger dataset.<br>\n",
    "This package comes with a [sampled dataset](https://github.com/SMAPPNYU/urlExpander/blob/master/urlexpander/core/datasets.py#L8-L29) of links extracted from Twitter accounts from the 115th Congress. <br>\n",
    "If you work with Twitter data you'll be glad to know there is a function`ux.tweet_utils.get_link()` for creating a similar dataset from Tweets."
   ]
  },
  {
   "cell_type": "code",
   "execution_count": 13,
   "metadata": {},
   "outputs": [
    {
     "name": "stdout",
     "output_type": "stream",
     "text": [
      "The dataset has 50000 rows\n"
     ]
    },
    {
     "data": {
      "text/html": [
       "<div>\n",
       "<style scoped>\n",
       "    .dataframe tbody tr th:only-of-type {\n",
       "        vertical-align: middle;\n",
       "    }\n",
       "\n",
       "    .dataframe tbody tr th {\n",
       "        vertical-align: top;\n",
       "    }\n",
       "\n",
       "    .dataframe thead th {\n",
       "        text-align: right;\n",
       "    }\n",
       "</style>\n",
       "<table border=\"1\" class=\"dataframe\">\n",
       "  <thead>\n",
       "    <tr style=\"text-align: right;\">\n",
       "      <th></th>\n",
       "      <th>link_domain</th>\n",
       "      <th>link_url_long</th>\n",
       "      <th>link_url_short</th>\n",
       "      <th>tweet_created_at</th>\n",
       "      <th>tweet_id</th>\n",
       "      <th>tweet_text</th>\n",
       "      <th>user_id</th>\n",
       "    </tr>\n",
       "  </thead>\n",
       "  <tbody>\n",
       "    <tr>\n",
       "      <th>49998</th>\n",
       "      <td>youtube.com</td>\n",
       "      <td>https://www.youtube.com/watch?v=KzanCL2Ui4Y</td>\n",
       "      <td>https://t.co/Ilwci2gNFa</td>\n",
       "      <td>Mon Nov 28 19:44:30 +0000 2016</td>\n",
       "      <td>803323702444171265</td>\n",
       "      <td>LIVE: States' Economic Development Assistance ...</td>\n",
       "      <td>269992801</td>\n",
       "    </tr>\n",
       "    <tr>\n",
       "      <th>49999</th>\n",
       "      <td>twitter.com</td>\n",
       "      <td>https://twitter.com/ap/status/818071378469519361</td>\n",
       "      <td>https://t.co/2SEKhfEXeB</td>\n",
       "      <td>Sun Jan 08 15:01:58 +0000 2017</td>\n",
       "      <td>818110504694595585</td>\n",
       "      <td>Prayers for #Jerusalem. https://t.co/2SEKhfEXeB</td>\n",
       "      <td>22055226</td>\n",
       "    </tr>\n",
       "  </tbody>\n",
       "</table>\n",
       "</div>"
      ],
      "text/plain": [
       "       link_domain                                     link_url_long  \\\n",
       "49998  youtube.com       https://www.youtube.com/watch?v=KzanCL2Ui4Y   \n",
       "49999  twitter.com  https://twitter.com/ap/status/818071378469519361   \n",
       "\n",
       "                link_url_short                tweet_created_at  \\\n",
       "49998  https://t.co/Ilwci2gNFa  Mon Nov 28 19:44:30 +0000 2016   \n",
       "49999  https://t.co/2SEKhfEXeB  Sun Jan 08 15:01:58 +0000 2017   \n",
       "\n",
       "                 tweet_id                                         tweet_text  \\\n",
       "49998  803323702444171265  LIVE: States' Economic Development Assistance ...   \n",
       "49999  818110504694595585    Prayers for #Jerusalem. https://t.co/2SEKhfEXeB   \n",
       "\n",
       "         user_id  \n",
       "49998  269992801  \n",
       "49999   22055226  "
      ]
     },
     "execution_count": 13,
     "metadata": {},
     "output_type": "execute_result"
    }
   ],
   "source": [
    "df_congress = ux.datasets.load_congress_twitter_links()\n",
    "\n",
    "print(f'The dataset has {len(df_congress)} rows')\n",
    "df_congress.tail(2)"
   ]
  },
  {
   "cell_type": "markdown",
   "metadata": {},
   "source": [
    "Let's just work with shortened URLs:"
   ]
  },
  {
   "cell_type": "code",
   "execution_count": 14,
   "metadata": {},
   "outputs": [
    {
     "data": {
      "text/plain": [
       "15035"
      ]
     },
     "execution_count": 14,
     "metadata": {},
     "output_type": "execute_result"
    }
   ],
   "source": [
    "short_urls = df_congress[\n",
    "    df_congress['link_url_long'].apply(ux.is_short)\n",
    "]['link_url_long'].unique()\n",
    "\n",
    "len(short_urls)"
   ]
  },
  {
   "cell_type": "markdown",
   "metadata": {},
   "source": [
    "About 30% of the links are short!<br>\n",
    "The performance of the next script is dependent on your internet connection:"
   ]
  },
  {
   "cell_type": "code",
   "execution_count": null,
   "metadata": {},
   "outputs": [],
   "source": [
    "!curl -s https://raw.githubusercontent.com/sivel/speedtest-cli/master/speedtest.py | python -"
   ]
  },
  {
   "cell_type": "markdown",
   "metadata": {},
   "source": [
    "Let's see how long it takes to expand these 15k links.<br>\n",
    "This is where the parameters for `multithread_expand()` shine.\n",
    "We can created multiple threads for requests, cache results into a json file, and chunk the 15k input into smaller pieces. Why does this last part matter? Something I noticed when expanding links in mass is that performance degrades over time. Chunking the input prevents this from happening (not sure why though)!"
   ]
  },
  {
   "cell_type": "code",
   "execution_count": 18,
   "metadata": {},
   "outputs": [],
   "source": [
    "!rm tmp.json"
   ]
  },
  {
   "cell_type": "code",
   "execution_count": 21,
   "metadata": {},
   "outputs": [
    {
     "name": "stderr",
     "output_type": "stream",
     "text": [
      "\n",
      "0it [00:00, ?it/s]\u001b[A\n",
      "1it [00:26, 26.73s/it]\u001b[A\n",
      "2it [00:51, 25.70s/it]\u001b[A\n",
      "3it [01:23, 27.95s/it]\u001b[A\n",
      "4it [01:48, 27.11s/it]\u001b[A\n",
      "5it [02:15, 27.04s/it]\u001b[A\n",
      "6it [02:56, 29.37s/it]\u001b[A\n",
      "7it [03:29, 29.96s/it]\u001b[A\n",
      "8it [03:56, 29.53s/it]\u001b[A\n",
      "9it [04:20, 28.99s/it]\u001b[A\n",
      "10it [04:46, 28.65s/it]\u001b[A\n",
      "11it [05:11, 28.31s/it]\u001b[A\n",
      "12it [05:17, 26.42s/it]\u001b[A\n",
      "\u001b[A"
     ]
    }
   ],
   "source": [
    "resolved_links, errors = ux.multithread_expand(short_urls, \n",
    "                                               chunksize=1280, \n",
    "                                               n_workers=64,\n",
    "                                               cache_file='tmp.json',\n",
    "                                               return_errors=True)"
   ]
  },
  {
   "cell_type": "markdown",
   "metadata": {},
   "source": [
    "We were able to expand 15K links in 5 minutes! With very few errors!"
   ]
  },
  {
   "cell_type": "code",
   "execution_count": 22,
   "metadata": {},
   "outputs": [
    {
     "data": {
      "text/plain": [
       "(15025, 10)"
      ]
     },
     "execution_count": 22,
     "metadata": {},
     "output_type": "execute_result"
    }
   ],
   "source": [
    "len(resolved_links), len(errors)"
   ]
  },
  {
   "cell_type": "code",
   "execution_count": 17,
   "metadata": {},
   "outputs": [
    {
     "data": {
      "text/plain": [
       "[{'http://tiny.cc/o9p2dy': \"<class 'UnicodeDecodeError'>\"},\n",
       " {'http://bit.ly/18u7zSS': \"<class 'requests.exceptions.TooManyRedirects'>\"},\n",
       " {'http://bit.ly/2nfaLyx': \"<class 'requests.exceptions.ConnectionError'>\"},\n",
       " {'http://tinyurl.com/kc87fug': \"<class 'requests.exceptions.TooManyRedirects'>\"},\n",
       " {'http://ow.ly/peiY303JCSO': \"<class 'requests.exceptions.TooManyRedirects'>\"},\n",
       " {'http://bit.ly/L7iSrM': \"<class 'requests.exceptions.TooManyRedirects'>\"},\n",
       " {'http://bit.ly/mWfk6I': \"<class 'requests.exceptions.TooManyRedirects'>\"},\n",
       " {'http://bit.ly/2wC0Zy3': \"<class 'requests.exceptions.TooManyRedirects'>\"},\n",
       " {'http://bit.ly/QKiQ9u': \"<class 'requests.exceptions.TooManyRedirects'>\"},\n",
       " {'http://bit.ly/2rj4XGy': \"<class 'requests.exceptions.TooManyRedirects'>\"}]"
      ]
     },
     "execution_count": 17,
     "metadata": {},
     "output_type": "execute_result"
    }
   ],
   "source": [
    "errors"
   ]
  },
  {
   "cell_type": "markdown",
   "metadata": {},
   "source": [
    "At SMaPP, the process of link expansion has been a burden on our research.<br>\n",
    "We hope that this software helps you overcome similar obstacles!"
   ]
  },
  {
   "cell_type": "code",
   "execution_count": 23,
   "metadata": {},
   "outputs": [
    {
     "data": {
      "text/html": [
       "<div>\n",
       "<style scoped>\n",
       "    .dataframe tbody tr th:only-of-type {\n",
       "        vertical-align: middle;\n",
       "    }\n",
       "\n",
       "    .dataframe tbody tr th {\n",
       "        vertical-align: top;\n",
       "    }\n",
       "\n",
       "    .dataframe thead th {\n",
       "        text-align: right;\n",
       "    }\n",
       "</style>\n",
       "<table border=\"1\" class=\"dataframe\">\n",
       "  <thead>\n",
       "    <tr style=\"text-align: right;\">\n",
       "      <th></th>\n",
       "      <th>original_url</th>\n",
       "      <th>resolved_domain</th>\n",
       "      <th>resolved_url</th>\n",
       "    </tr>\n",
       "  </thead>\n",
       "  <tbody>\n",
       "    <tr>\n",
       "      <th>15022</th>\n",
       "      <td>http://1.usa.gov/9n1pJ</td>\n",
       "      <td>www.loc.gov</td>\n",
       "      <td>http://www.loc.gov port=443): Read timed out. ...</td>\n",
       "    </tr>\n",
       "    <tr>\n",
       "      <th>15023</th>\n",
       "      <td>https://buff.ly/2vFbqNn</td>\n",
       "      <td>www.prnewswire.com</td>\n",
       "      <td>http://www.prnewswire.com port=443): Read time...</td>\n",
       "    </tr>\n",
       "    <tr>\n",
       "      <th>15024</th>\n",
       "      <td>http://1.usa.gov/vyXSYI</td>\n",
       "      <td>obamawhitehouse.archives.gov</td>\n",
       "      <td>https://obamawhitehouse.archives.gov/blog/2011...</td>\n",
       "    </tr>\n",
       "  </tbody>\n",
       "</table>\n",
       "</div>"
      ],
      "text/plain": [
       "                  original_url               resolved_domain  \\\n",
       "15022   http://1.usa.gov/9n1pJ                   www.loc.gov   \n",
       "15023  https://buff.ly/2vFbqNn            www.prnewswire.com   \n",
       "15024  http://1.usa.gov/vyXSYI  obamawhitehouse.archives.gov   \n",
       "\n",
       "                                            resolved_url  \n",
       "15022  http://www.loc.gov port=443): Read timed out. ...  \n",
       "15023  http://www.prnewswire.com port=443): Read time...  \n",
       "15024  https://obamawhitehouse.archives.gov/blog/2011...  "
      ]
     },
     "execution_count": 23,
     "metadata": {},
     "output_type": "execute_result"
    }
   ],
   "source": [
    "df_resolved_links = pd.DataFrame(resolved_links)\n",
    "df_resolved_links.tail(3)"
   ]
  },
  {
   "cell_type": "markdown",
   "metadata": {},
   "source": [
    "Here are the top 25 shared domains from this sampled Congress dataset:"
   ]
  },
  {
   "cell_type": "code",
   "execution_count": 24,
   "metadata": {},
   "outputs": [
    {
     "data": {
      "text/plain": [
       "facebook.com                1346\n",
       "youtube.com                  762\n",
       "ow.ly                        251\n",
       "thehill.com                  210\n",
       "energycommerce.house.gov     120\n",
       "washingtonexaminer.com       104\n",
       "medium.com                    91\n",
       "sherrodbrown.com              66\n",
       "washingtonpost.com            66\n",
       "mn.gov                        65\n",
       "wicker.senate.gov             56\n",
       "flickr.com                    54\n",
       "enzi.senate.gov               54\n",
       "foreignaffairs.house.gov      53\n",
       "maine.gov                     49\n",
       "adriansmith.house.gov         49\n",
       "democraticwhip.gov            46\n",
       "blunt.senate.gov              46\n",
       "cotton.senate.gov             46\n",
       "rollcall.com                  46\n",
       "capito.senate.gov             46\n",
       "www.cochran.senate.gov        43\n",
       "foxnews.com                   42\n",
       "governor.hawaii.gov           41\n",
       "boozman.senate.gov            41\n",
       "Name: resolved_domain, dtype: int64"
      ]
     },
     "execution_count": 24,
     "metadata": {},
     "output_type": "execute_result"
    }
   ],
   "source": [
    "df_resolved_links.resolved_domain.value_counts().head(25)"
   ]
  },
  {
   "cell_type": "markdown",
   "metadata": {},
   "source": [
    "<hr>"
   ]
  },
  {
   "cell_type": "markdown",
   "metadata": {},
   "source": [
    "# Bonus Round!\n",
    "After unshortening links, you can join them back into the new dataframe"
   ]
  },
  {
   "cell_type": "code",
   "execution_count": 25,
   "metadata": {},
   "outputs": [],
   "source": [
    "import numpy as np"
   ]
  },
  {
   "cell_type": "code",
   "execution_count": 27,
   "metadata": {},
   "outputs": [
    {
     "data": {
      "text/html": [
       "<div>\n",
       "<style scoped>\n",
       "    .dataframe tbody tr th:only-of-type {\n",
       "        vertical-align: middle;\n",
       "    }\n",
       "\n",
       "    .dataframe tbody tr th {\n",
       "        vertical-align: top;\n",
       "    }\n",
       "\n",
       "    .dataframe thead th {\n",
       "        text-align: right;\n",
       "    }\n",
       "</style>\n",
       "<table border=\"1\" class=\"dataframe\">\n",
       "  <thead>\n",
       "    <tr style=\"text-align: right;\">\n",
       "      <th></th>\n",
       "      <th>link_domain</th>\n",
       "      <th>link_url_long</th>\n",
       "      <th>link_url_short</th>\n",
       "      <th>tweet_created_at</th>\n",
       "      <th>tweet_id</th>\n",
       "      <th>tweet_text</th>\n",
       "      <th>user_id</th>\n",
       "      <th>original_url</th>\n",
       "      <th>resolved_domain</th>\n",
       "      <th>resolved_url</th>\n",
       "    </tr>\n",
       "  </thead>\n",
       "  <tbody>\n",
       "    <tr>\n",
       "      <th>49998</th>\n",
       "      <td>youtube.com</td>\n",
       "      <td>https://www.youtube.com/watch?v=KzanCL2Ui4Y</td>\n",
       "      <td>https://t.co/Ilwci2gNFa</td>\n",
       "      <td>Mon Nov 28 19:44:30 +0000 2016</td>\n",
       "      <td>803323702444171265</td>\n",
       "      <td>LIVE: States' Economic Development Assistance ...</td>\n",
       "      <td>269992801</td>\n",
       "      <td>NaN</td>\n",
       "      <td>youtube.com</td>\n",
       "      <td>https://www.youtube.com/watch?v=KzanCL2Ui4Y</td>\n",
       "    </tr>\n",
       "    <tr>\n",
       "      <th>49999</th>\n",
       "      <td>twitter.com</td>\n",
       "      <td>https://twitter.com/ap/status/818071378469519361</td>\n",
       "      <td>https://t.co/2SEKhfEXeB</td>\n",
       "      <td>Sun Jan 08 15:01:58 +0000 2017</td>\n",
       "      <td>818110504694595585</td>\n",
       "      <td>Prayers for #Jerusalem. https://t.co/2SEKhfEXeB</td>\n",
       "      <td>22055226</td>\n",
       "      <td>NaN</td>\n",
       "      <td>twitter.com</td>\n",
       "      <td>https://twitter.com/ap/status/818071378469519361</td>\n",
       "    </tr>\n",
       "  </tbody>\n",
       "</table>\n",
       "</div>"
      ],
      "text/plain": [
       "       link_domain                                     link_url_long  \\\n",
       "49998  youtube.com       https://www.youtube.com/watch?v=KzanCL2Ui4Y   \n",
       "49999  twitter.com  https://twitter.com/ap/status/818071378469519361   \n",
       "\n",
       "                link_url_short                tweet_created_at  \\\n",
       "49998  https://t.co/Ilwci2gNFa  Mon Nov 28 19:44:30 +0000 2016   \n",
       "49999  https://t.co/2SEKhfEXeB  Sun Jan 08 15:01:58 +0000 2017   \n",
       "\n",
       "                 tweet_id                                         tweet_text  \\\n",
       "49998  803323702444171265  LIVE: States' Economic Development Assistance ...   \n",
       "49999  818110504694595585    Prayers for #Jerusalem. https://t.co/2SEKhfEXeB   \n",
       "\n",
       "         user_id original_url resolved_domain  \\\n",
       "49998  269992801          NaN     youtube.com   \n",
       "49999   22055226          NaN     twitter.com   \n",
       "\n",
       "                                           resolved_url  \n",
       "49998       https://www.youtube.com/watch?v=KzanCL2Ui4Y  \n",
       "49999  https://twitter.com/ap/status/818071378469519361  "
      ]
     },
     "execution_count": 27,
     "metadata": {},
     "output_type": "execute_result"
    }
   ],
   "source": [
    "df_merged = df_congress.merge(df_resolved_links,\n",
    "                              left_on='link_url_long',\n",
    "                              right_on='original_url',\n",
    "                              how='left')\n",
    "\n",
    "# these steps fill in `resolved_domain` for URLs that were not from link shortening services...\n",
    "df_merged['resolved_domain'] = np.where(df_merged['resolved_domain'].isnull(), \n",
    "                                        df_merged['link_domain'], \n",
    "                                        df_merged['resolved_domain'])\n",
    "\n",
    "df_merged['resolved_url'] = np.where(df_merged['resolved_url'].isnull(), \n",
    "                                     df_merged['link_url_long'], \n",
    "                                     df_merged['resolved_url'])\n",
    "\n",
    "df_merged.tail(2)"
   ]
  },
  {
   "cell_type": "markdown",
   "metadata": {},
   "source": [
    "You can count number of `resolved_domain`s for each `user_id ` using `count_matrix()`.<br>\n",
    "You can even choose which domains are counted by modifying the `domain_list` arg:"
   ]
  },
  {
   "cell_type": "code",
   "execution_count": 34,
   "metadata": {},
   "outputs": [
    {
     "data": {
      "text/html": [
       "<div>\n",
       "<style scoped>\n",
       "    .dataframe tbody tr th:only-of-type {\n",
       "        vertical-align: middle;\n",
       "    }\n",
       "\n",
       "    .dataframe tbody tr th {\n",
       "        vertical-align: top;\n",
       "    }\n",
       "\n",
       "    .dataframe thead th {\n",
       "        text-align: right;\n",
       "    }\n",
       "</style>\n",
       "<table border=\"1\" class=\"dataframe\">\n",
       "  <thead>\n",
       "    <tr style=\"text-align: right;\">\n",
       "      <th></th>\n",
       "      <th>facebook.com</th>\n",
       "      <th>youtube.com</th>\n",
       "      <th>twitter.com</th>\n",
       "      <th>google.com</th>\n",
       "    </tr>\n",
       "    <tr>\n",
       "      <th>user_id</th>\n",
       "      <th></th>\n",
       "      <th></th>\n",
       "      <th></th>\n",
       "      <th></th>\n",
       "    </tr>\n",
       "  </thead>\n",
       "  <tbody>\n",
       "    <tr>\n",
       "      <th>941000686275387392</th>\n",
       "      <td>8</td>\n",
       "      <td>0</td>\n",
       "      <td>8</td>\n",
       "      <td>0</td>\n",
       "    </tr>\n",
       "    <tr>\n",
       "      <th>941080085121175552</th>\n",
       "      <td>0</td>\n",
       "      <td>0</td>\n",
       "      <td>2</td>\n",
       "      <td>0</td>\n",
       "    </tr>\n",
       "    <tr>\n",
       "      <th>948946378939609089</th>\n",
       "      <td>0</td>\n",
       "      <td>2</td>\n",
       "      <td>1</td>\n",
       "      <td>0</td>\n",
       "    </tr>\n",
       "  </tbody>\n",
       "</table>\n",
       "</div>"
      ],
      "text/plain": [
       "                    facebook.com  youtube.com  twitter.com  google.com\n",
       "user_id                                                               \n",
       "941000686275387392             8            0            8           0\n",
       "941080085121175552             0            0            2           0\n",
       "948946378939609089             0            2            1           0"
      ]
     },
     "execution_count": 34,
     "metadata": {},
     "output_type": "execute_result"
    }
   ],
   "source": [
    "count_matrix = ux.tweet_utils.count_matrix(df_merged,\n",
    "                                           user_col='user_id', \n",
    "                                           domain_col='resolved_domain', \n",
    "                                           unique_count_col='tweet_id',\n",
    "                                           domain_list=['youtube.com','facebook.com', 'google.com', 'twitter.com'])\n",
    "\n",
    "count_matrix.tail(3)"
   ]
  },
  {
   "cell_type": "markdown",
   "metadata": {},
   "source": [
    "One of the domain lists you might be interested in are US national media outlets -\n",
    "`datasets.load_us_national_media_outlets()` compiled by Gregory Eady (Forthcoming)."
   ]
  },
  {
   "cell_type": "code",
   "execution_count": 37,
   "metadata": {},
   "outputs": [
    {
     "data": {
      "text/plain": [
       "array(['abcnews.go.com', 'aim.org', 'alternet.org',\n",
       "       'theamericanconservative.com', 'prospect.org'], dtype=object)"
      ]
     },
     "execution_count": 37,
     "metadata": {},
     "output_type": "execute_result"
    }
   ],
   "source": [
    "ux.datasets.load_us_national_media_outlets()[:5]"
   ]
  },
  {
   "cell_type": "markdown",
   "metadata": {},
   "source": [
    "<hr>\n",
    "We also built a one-size-fits-all scraper that returns the title, description, and/or paragraphs from any given URL."
   ]
  },
  {
   "cell_type": "code",
   "execution_count": 38,
   "metadata": {},
   "outputs": [
    {
     "data": {
      "text/plain": [
       "\"Lindsey Graham to Trump: 'You Just Can't Tweet' About Iran | Breitbart\""
      ]
     },
     "execution_count": 38,
     "metadata": {},
     "output_type": "execute_result"
    }
   ],
   "source": [
    "ux.html_utils.get_webpage_title(urls[0])"
   ]
  },
  {
   "cell_type": "code",
   "execution_count": 39,
   "metadata": {},
   "outputs": [
    {
     "data": {
      "text/plain": [
       "'Sunday CBS\\'s \"Face the Nation,\" while discussing the last several\\xa0days of protests in Iran over\\xa0government corruption, Sen. Lindsey Graham (R-SC) warned | Breitbart TV'"
      ]
     },
     "execution_count": 39,
     "metadata": {},
     "output_type": "execute_result"
    }
   ],
   "source": [
    "ux.html_utils.get_webpage_description(urls[0])"
   ]
  },
  {
   "cell_type": "code",
   "execution_count": 40,
   "metadata": {},
   "outputs": [
    {
     "data": {
      "text/plain": [
       "OrderedDict([('url', 'https://trib.al/xXI5ruM'),\n",
       "             ('title',\n",
       "              \"Lindsey Graham to Trump: 'You Just Can't Tweet' About Iran | Breitbart\"),\n",
       "             ('description',\n",
       "              'Sunday CBS\\'s \"Face the Nation,\" while discussing the last several\\xa0days of protests in Iran over\\xa0government corruption, Sen. Lindsey Graham (R-SC) warned | Breitbart TV'),\n",
       "             ('paragraphs',\n",
       "              ['Sunday CBS’s “Face the Nation,” while discussing the last several\\xa0days of protests in Iran over\\xa0government corruption, Sen. Lindsey Graham (R-SC) warned President Donald Trump that he couldn’t “just tweet” about the protests.',\n",
       "               'Graham said, “The Iranian people are not our enemy. The Ayatollah is the enemy of the world. Here is what I would do if I were President Trump. I would explain what a better deal would look like. It’s not enough to watch. President Trump is tweeting very sympathetically to the Iranian people. But you just can’t tweet here. You have to lay out a plan.”',\n",
       "               '<em><span>Follow Pam Key on Twitter <a href=\"https://twitter.com/pamkeyNEN\">@pamkeyNEN</a> </span></em>',\n",
       "               '<a href=\"https://www.facebook.com/Breitbart\"></a>.',\n",
       "               '<small>Copyright © 2018 Breitbart</small>'])])"
      ]
     },
     "execution_count": 40,
     "metadata": {},
     "output_type": "execute_result"
    }
   ],
   "source": [
    "ux.html_utils.get_webpage_meta(urls[0])"
   ]
  },
  {
   "cell_type": "markdown",
   "metadata": {},
   "source": [
    "## Counclusion\n",
    "Thanks for stumbling upon this package, we hope that it will lead to more research around links.<br>\n",
    "We're working on some projects in thie vein and would love to know if you are too!\n",
    "\n",
    "As an open source package, please feel to reach out about bugs, feature requests, or collaboration!"
   ]
  }
 ],
 "metadata": {
  "kernelspec": {
   "display_name": "Python 3",
   "language": "python",
   "name": "python3"
  },
  "language_info": {
   "codemirror_mode": {
    "name": "ipython",
    "version": 3
   },
   "file_extension": ".py",
   "mimetype": "text/x-python",
   "name": "python",
   "nbconvert_exporter": "python",
   "pygments_lexer": "ipython3",
   "version": "3.6.5"
  }
 },
 "nbformat": 4,
 "nbformat_minor": 2
}
